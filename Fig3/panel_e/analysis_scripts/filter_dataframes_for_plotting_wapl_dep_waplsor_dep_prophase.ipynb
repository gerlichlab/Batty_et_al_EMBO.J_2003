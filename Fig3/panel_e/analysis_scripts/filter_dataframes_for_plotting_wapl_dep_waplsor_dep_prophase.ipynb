{
 "cells": [
  {
   "cell_type": "code",
   "execution_count": 1,
   "metadata": {},
   "outputs": [],
   "source": [
    "import matplotlib.pyplot as plt\n",
    "from matplotlib.pyplot import figure\n",
    "from mpl_toolkits.mplot3d.art3d import Poly3DCollection\n",
    "import numpy as np\n",
    "from scipy import ndimage as ndi\n",
    "import skimage\n",
    "from skimage import io, filters, morphology\n",
    "import pandas as pd\n",
    "import glob\n",
    "import random\n",
    "import seaborn as sns\n",
    "from scipy import stats\n",
    "from scipy.signal import chirp, find_peaks, peak_widths\n",
    "from pathlib import Path\n",
    "import scipy.stats\n",
    "import os\n",
    "from scipy import ndimage\n",
    "import math\n",
    "from operator import itemgetter\n",
    "from matplotlib import pyplot\n",
    "#from read_roi import read_roi_zip\n",
    "from scipy.optimize import curve_fit\n",
    "from scipy import signal\n",
    "from scipy.interpolate import interp1d, splev, CubicSpline, PPoly\n",
    "import matplotlib.ticker as ticker\n",
    "from matplotlib.lines import Line2D\n"
   ]
  },
  {
   "cell_type": "code",
   "execution_count": 2,
   "metadata": {
    "tags": []
   },
   "outputs": [],
   "source": [
    "#define functions"
   ]
  },
  {
   "cell_type": "code",
   "execution_count": 3,
   "metadata": {},
   "outputs": [],
   "source": [
    "def display(im3d, cmap=\"gray\", step=1, chosen = None):\n",
    "    if chosen is None: \n",
    "        chosen = []\n",
    "    stack_size = im3d.shape[0]\n",
    "    cols = 5\n",
    "    rows = math.ceil((stack_size/cols))\n",
    "    \n",
    "    h , axes = plt.subplots(nrows=rows, ncols=cols, figsize=(3*cols, 3*rows))\n",
    "    #print(h)\n",
    "    #p1 = get(h,'Position')\n",
    "    #annotation('rectangle',p1,'FaceAlpha',.2,'FaceColor','red','EdgeColor','red') \n",
    "    vmin = im3d.min()\n",
    "    vmax = im3d.max()\n",
    "    enum = 0\n",
    "    for ax, image in zip(axes.flatten(), im3d[::step]):\n",
    "        ax.imshow(image, cmap=cmap, vmin=vmin, vmax=vmax)\n",
    "        if enum in chosen:\n",
    "            for axis in ['top','bottom','left','right']:\n",
    "                #ax.spines[axis].set_linewidth(0.5)\n",
    "                ax.spines[axis].set_color(\"red\")\n",
    "                ax.spines[axis].set_linewidth(5)\n",
    "        ax.set_xticks([])\n",
    "        ax.set_yticks([])\n",
    "        enum += 1\n",
    "    #plt.savefig('foo.png')\n",
    "    "
   ]
  },
  {
   "cell_type": "code",
   "execution_count": 4,
   "metadata": {},
   "outputs": [],
   "source": [
    "def display_slice(im, cmap=\"gray\", step=1, chosen = None, savefig = False):\n",
    "    h , axes = plt.subplots(1,1)\n",
    "    vmin = im.min()\n",
    "    vmax = im.max()\n",
    "    enum = 0\n",
    "    axes.imshow(im, cmap=cmap, vmin=vmin, vmax=vmax)"
   ]
  },
  {
   "cell_type": "code",
   "execution_count": 5,
   "metadata": {},
   "outputs": [],
   "source": [
    "#functions to get the peak indexes for a particular channel\n",
    "\n",
    "#get indexes of peaks for edu and hoechst channels in an array, the midpoint is the sum of the peak indexes divided by 2. Can be then converted into a distance.\n",
    "def get_index(a, b):\n",
    "    return (a+b)/2\n",
    "\n",
    "#get the index of a single channel\n",
    "def get_index_single_axis(a):\n",
    "    return (a)\n",
    "\n",
    "#get indexes of peaks for split smc4 or scc1 peaks for subsequent alignment the midpoint is the sum of the peak indexes divided by 2. Can be then converted into a distance.\n",
    "\n",
    "def get_index_centre_split_axes(a,b):\n",
    "    return (a+b)/2"
   ]
  },
  {
   "cell_type": "code",
   "execution_count": 6,
   "metadata": {},
   "outputs": [],
   "source": [
    "#change condition for wapl sor dep2, had to analyse the profiles in batches because the data requirements were too high"
   ]
  },
  {
   "cell_type": "code",
   "execution_count": 7,
   "metadata": {},
   "outputs": [],
   "source": [
    "wapl_sor_dep_g2 = pd.read_csv(\"/groups/gerlich/experiments/Experiments_005500/005556/final_paper_plot_profiles/sep_around_axes_Wapl + Sororin depleted G2.csv\")"
   ]
  },
  {
   "cell_type": "code",
   "execution_count": 8,
   "metadata": {},
   "outputs": [],
   "source": [
    "wapl_sor_dep_g2[\"condition\"] = \"Wapl + Sororin depleted G2\"\n",
    "wapl_sor_dep_g2.to_csv(\"/groups/gerlich/experiments/Experiments_005500/005556/final_paper_plot_profiles/sep_around_axes_Wapl + Sororin depleted G2.csv\")"
   ]
  },
  {
   "cell_type": "code",
   "execution_count": 9,
   "metadata": {},
   "outputs": [],
   "source": [
    "csvpath = \"/groups/gerlich/experiments/Experiments_005500/005556/final_paper_plot_profiles/\"\n",
    "os.chdir(csvpath)\n",
    "\n",
    "csv_files = glob.glob(csvpath + \"*.csv\")\n",
    "\n",
    "### Fetch all files in path\n"
   ]
  },
  {
   "cell_type": "code",
   "execution_count": 10,
   "metadata": {},
   "outputs": [
    {
     "data": {
      "text/plain": [
       "['/groups/gerlich/experiments/Experiments_005500/005556/final_paper_plot_profiles/sep_around_axes_Wapl depleted G2.csv',\n",
       " '/groups/gerlich/experiments/Experiments_005500/005556/final_paper_plot_profiles/sep_around_axes_WT late prophase.csv',\n",
       " '/groups/gerlich/experiments/Experiments_005500/005556/final_paper_plot_profiles/sep_around_axes_Wapl + Sororin depleted G2.csv']"
      ]
     },
     "execution_count": 10,
     "metadata": {},
     "output_type": "execute_result"
    }
   ],
   "source": [
    "csv_files\n"
   ]
  },
  {
   "cell_type": "code",
   "execution_count": 11,
   "metadata": {},
   "outputs": [],
   "source": [
    "#create empty list\n",
    "all_df = []\n",
    "#read in files\n",
    "for file in csv_files:\n",
    "    df = pd.read_csv(file, header=0)\n",
    "    #append to list\n",
    "    all_df.append(df)\n",
    "\n",
    "#concat dfs\n",
    "frame = pd.concat(all_df, axis=0, ignore_index=True)\n",
    "\n",
    "#assign variables\n",
    "difference_edu_scc1_peak = frame[\"difference_edu_scc1_peak\"]\n",
    "\n",
    "# if difference_edu_scc1_peak negative, displaced outwards relative to the closest SMC peak. if difference positive, displaced inwards relative to the closest SMC peak. This means at the moment that all Wapl values are negative (all displaced outwards because of how I drew the lines) >>> want to create a new column \n",
    "# and invert the sign for all values in the column for the final figure\n",
    "\n",
    "# so that positive values become outwardly displaced, negative values show inward displacement\n",
    "\n",
    "\n",
    "final_output = frame[[\"name\", \"condition\", \"sister_separation\", \"difference_edu_scc1_peak\"]]"
   ]
  },
  {
   "cell_type": "code",
   "execution_count": 14,
   "metadata": {},
   "outputs": [],
   "source": [
    "final_output.to_csv(csvpath + \"check.csv\")"
   ]
  },
  {
   "cell_type": "code",
   "execution_count": 19,
   "metadata": {},
   "outputs": [],
   "source": [
    "#create empty list\n",
    "all_df = []\n",
    "#read in files\n",
    "for file in csv_files:\n",
    "    df = pd.read_csv(file, header=0)\n",
    "    #append to list\n",
    "    all_df.append(df)\n",
    "\n",
    "#concat dfs\n",
    "frame = pd.concat(all_df, axis=0, ignore_index=True)\n",
    "\n",
    "#assign variables\n",
    "difference_edu_scc1_peak = frame[\"difference_edu_scc1_peak\"]\n",
    "\n",
    "# if difference_edu_scc1_peak negative, displaced outwards relative to the closest SMC peak. if difference positive, displaced inwards relative to the closest SMC peak. This means at the moment that all Wapl values are negative (all displaced outwards because of how I drew the lines) >>> want to create a new column \n",
    "# and invert the sign for all values in the column for the final figure\n",
    "\n",
    "# so that positive values become outwardly displaced, negative values show inward displacement\n",
    "\n",
    "displacement_outward_edu_smc = []\n",
    "for i in difference_edu_scc1_peak:\n",
    "    i = -i\n",
    "    displacement_outward_edu_smc.append(i)\n",
    "frame[\"displacement_outward_edu_smc\"] = displacement_outward_edu_smc\n",
    "final_output = frame[[\"name\", \"condition\", \"sister_separation\", \"displacement_outward_edu_smc\"]]"
   ]
  },
  {
   "cell_type": "code",
   "execution_count": 20,
   "metadata": {},
   "outputs": [],
   "source": [
    "#final_output"
   ]
  },
  {
   "cell_type": "code",
   "execution_count": 26,
   "metadata": {},
   "outputs": [],
   "source": [
    "results_dir = \"/groups/gerlich/experiments/Experiments_005500/005556/filtered_dataframes_for_plotting/\""
   ]
  },
  {
   "cell_type": "code",
   "execution_count": 27,
   "metadata": {},
   "outputs": [
    {
     "data": {
      "text/html": [
       "<div>\n",
       "<style scoped>\n",
       "    .dataframe tbody tr th:only-of-type {\n",
       "        vertical-align: middle;\n",
       "    }\n",
       "\n",
       "    .dataframe tbody tr th {\n",
       "        vertical-align: top;\n",
       "    }\n",
       "\n",
       "    .dataframe thead th {\n",
       "        text-align: right;\n",
       "    }\n",
       "</style>\n",
       "<table border=\"1\" class=\"dataframe\">\n",
       "  <thead>\n",
       "    <tr style=\"text-align: right;\">\n",
       "      <th></th>\n",
       "      <th>name</th>\n",
       "      <th>condition</th>\n",
       "      <th>sister_separation</th>\n",
       "      <th>displacement_outward_edu_smc</th>\n",
       "    </tr>\n",
       "  </thead>\n",
       "  <tbody>\n",
       "    <tr>\n",
       "      <th>110</th>\n",
       "      <td>Scc1_EdU_Hoechst_220405_wt_prophase_rep1_hemi_...</td>\n",
       "      <td>WT late prophase</td>\n",
       "      <td>0.554646</td>\n",
       "      <td>-0.116768</td>\n",
       "    </tr>\n",
       "    <tr>\n",
       "      <th>111</th>\n",
       "      <td>Scc1_EdU_Hoechst_220405_wt_prophase_rep1_hemi_...</td>\n",
       "      <td>WT late prophase</td>\n",
       "      <td>0.370303</td>\n",
       "      <td>-0.028485</td>\n",
       "    </tr>\n",
       "    <tr>\n",
       "      <th>112</th>\n",
       "      <td>Scc1_EdU_Hoechst_220405_wt_prophase_rep1_hemi_...</td>\n",
       "      <td>WT late prophase</td>\n",
       "      <td>0.615273</td>\n",
       "      <td>-0.017091</td>\n",
       "    </tr>\n",
       "    <tr>\n",
       "      <th>113</th>\n",
       "      <td>Scc1_EdU_Hoechst_220405_wt_prophase_rep1_hemi_...</td>\n",
       "      <td>WT late prophase</td>\n",
       "      <td>0.474707</td>\n",
       "      <td>0.015313</td>\n",
       "    </tr>\n",
       "    <tr>\n",
       "      <th>114</th>\n",
       "      <td>Scc1_EdU_Hoechst_220207_5389_WT_c1_rep1_propha...</td>\n",
       "      <td>WT late prophase</td>\n",
       "      <td>0.364606</td>\n",
       "      <td>-0.113939</td>\n",
       "    </tr>\n",
       "    <tr>\n",
       "      <th>...</th>\n",
       "      <td>...</td>\n",
       "      <td>...</td>\n",
       "      <td>...</td>\n",
       "      <td>...</td>\n",
       "    </tr>\n",
       "    <tr>\n",
       "      <th>262</th>\n",
       "      <td>Scc1_EdU_Hoechst_220207_5389_WT_c1_rep1_propha...</td>\n",
       "      <td>WT late prophase</td>\n",
       "      <td>0.587626</td>\n",
       "      <td>-0.117525</td>\n",
       "    </tr>\n",
       "    <tr>\n",
       "      <th>263</th>\n",
       "      <td>Scc1_EdU_Hoechst_220207_5389_WT_c1_rep1_propha...</td>\n",
       "      <td>WT late prophase</td>\n",
       "      <td>0.661141</td>\n",
       "      <td>0.068394</td>\n",
       "    </tr>\n",
       "    <tr>\n",
       "      <th>264</th>\n",
       "      <td>Scc1_EdU_Hoechst_220207_5389_WT_c1_rep1_propha...</td>\n",
       "      <td>WT late prophase</td>\n",
       "      <td>0.564000</td>\n",
       "      <td>-0.068364</td>\n",
       "    </tr>\n",
       "    <tr>\n",
       "      <th>265</th>\n",
       "      <td>Scc1_EdU_Hoechst_220207_5389_WT_c1_rep1_propha...</td>\n",
       "      <td>WT late prophase</td>\n",
       "      <td>0.611000</td>\n",
       "      <td>0.018515</td>\n",
       "    </tr>\n",
       "    <tr>\n",
       "      <th>266</th>\n",
       "      <td>Scc1_EdU_Hoechst_220207_5389_WT_c1_rep1_propha...</td>\n",
       "      <td>WT late prophase</td>\n",
       "      <td>0.578242</td>\n",
       "      <td>-0.059818</td>\n",
       "    </tr>\n",
       "  </tbody>\n",
       "</table>\n",
       "<p>157 rows × 4 columns</p>\n",
       "</div>"
      ],
      "text/plain": [
       "                                                  name         condition  \\\n",
       "110  Scc1_EdU_Hoechst_220405_wt_prophase_rep1_hemi_...  WT late prophase   \n",
       "111  Scc1_EdU_Hoechst_220405_wt_prophase_rep1_hemi_...  WT late prophase   \n",
       "112  Scc1_EdU_Hoechst_220405_wt_prophase_rep1_hemi_...  WT late prophase   \n",
       "113  Scc1_EdU_Hoechst_220405_wt_prophase_rep1_hemi_...  WT late prophase   \n",
       "114  Scc1_EdU_Hoechst_220207_5389_WT_c1_rep1_propha...  WT late prophase   \n",
       "..                                                 ...               ...   \n",
       "262  Scc1_EdU_Hoechst_220207_5389_WT_c1_rep1_propha...  WT late prophase   \n",
       "263  Scc1_EdU_Hoechst_220207_5389_WT_c1_rep1_propha...  WT late prophase   \n",
       "264  Scc1_EdU_Hoechst_220207_5389_WT_c1_rep1_propha...  WT late prophase   \n",
       "265  Scc1_EdU_Hoechst_220207_5389_WT_c1_rep1_propha...  WT late prophase   \n",
       "266  Scc1_EdU_Hoechst_220207_5389_WT_c1_rep1_propha...  WT late prophase   \n",
       "\n",
       "     sister_separation  displacement_outward_edu_smc  \n",
       "110           0.554646                     -0.116768  \n",
       "111           0.370303                     -0.028485  \n",
       "112           0.615273                     -0.017091  \n",
       "113           0.474707                      0.015313  \n",
       "114           0.364606                     -0.113939  \n",
       "..                 ...                           ...  \n",
       "262           0.587626                     -0.117525  \n",
       "263           0.661141                      0.068394  \n",
       "264           0.564000                     -0.068364  \n",
       "265           0.611000                      0.018515  \n",
       "266           0.578242                     -0.059818  \n",
       "\n",
       "[157 rows x 4 columns]"
      ]
     },
     "execution_count": 27,
     "metadata": {},
     "output_type": "execute_result"
    }
   ],
   "source": [
    "df_late_prophase"
   ]
  },
  {
   "cell_type": "code",
   "execution_count": 37,
   "metadata": {},
   "outputs": [],
   "source": [
    "df_late_prophase = final_output.loc[final_output['condition'] == \"WT late prophase\"]\n",
    "df_late_prophase.to_csv(results_dir + \"late_prophase_output.csv\", index=False)\n",
    "\n",
    "df_wapl = final_output.loc[final_output['condition'] == \"Wapl depleted G2\"]\n",
    "df_wapl.to_csv(results_dir + \"wapl_dep_output.csv\", index=False)\n",
    "\n",
    "df_wapl_sor = final_output.loc[final_output['condition'] == \"Wapl + Sororin depleted G2\"]\n",
    "df_wapl_sor.to_csv(results_dir + \"wapl_sor_dep_output.csv\", index=False)\n"
   ]
  },
  {
   "cell_type": "code",
   "execution_count": 42,
   "metadata": {},
   "outputs": [],
   "source": [
    "sorted_prophase = df_late_prophase.groupby('name')['sister_separation'].mean()"
   ]
  },
  {
   "cell_type": "code",
   "execution_count": 43,
   "metadata": {},
   "outputs": [
    {
     "data": {
      "text/plain": [
       "name\n",
       "Scc1_EdU_Hoechst_220207_5389_WT_c1_rep1_prophase_smc4_axes_60min_stlc_hemi_zoom5-01-46.czi #1.tif_registered.tif    0.640960\n",
       "Scc1_EdU_Hoechst_220207_5389_WT_c1_rep1_prophase_smc4_axes_60min_stlc_hemi_zoom5-01-46.czi #2.tif_registered.tif    0.571111\n",
       "Scc1_EdU_Hoechst_220207_5389_WT_c1_rep1_prophase_smc4_axes_60min_stlc_hemi_zoom5-01-46.czi #4.tif_registered.tif    0.600402\n",
       "Scc1_EdU_Hoechst_220207_5389_WT_c1_rep1_prophase_smc4_axes_60min_stlc_hemi_zoom5-01-46.czi #5.tif_registered.tif    0.593697\n",
       "Scc1_EdU_Hoechst_220207_5389_WT_c1_rep1_prophase_smc4_axes_60min_stlc_hemi_zoom5-01-46.czi #7.tif_registered.tif    0.445993\n",
       "Scc1_EdU_Hoechst_220207_5389_WT_c1_rep1_prophase_smc4_axes_60min_stlc_hemi_zoom5-01-46.czi #8.tif_registered.tif    0.604044\n",
       "Scc1_EdU_Hoechst_220207_5389_WT_c1_rep2_prophase_axes_60min_stlc_hemi_zoom5-01-60.czi #1.tif_registered.tif         0.540841\n",
       "Scc1_EdU_Hoechst_220207_5389_WT_c1_rep2_prophase_axes_60min_stlc_hemi_zoom5-01-60.czi #3.tif_registered.tif         0.583189\n",
       "Scc1_EdU_Hoechst_220207_5389_WT_c1_rep2_prophase_axes_60min_stlc_hemi_zoom5-01-60.czi #4.tif_registered.tif         0.489822\n",
       "Scc1_EdU_Hoechst_220207_5389_WT_c1_rep2_prophase_axes_60min_stlc_hemi_zoom5-01-60.czi #5.tif_registered.tif         0.578371\n",
       "Scc1_EdU_Hoechst_220207_5389_WT_c1_rep2_prophase_axes_60min_stlc_hemi_zoom5-01-60.czi #6.tif_registered.tif         0.486111\n",
       "Scc1_EdU_Hoechst_220207_5389_WT_c2_rep1_prophase_axes_60min_stlc_hemi_zoom5-01-106.czi #1.tif_registered.tif        0.616531\n",
       "Scc1_EdU_Hoechst_220207_5389_WT_c2_rep1_prophase_axes_60min_stlc_hemi_zoom5-01-106.czi #2.tif_registered.tif        0.388000\n",
       "Scc1_EdU_Hoechst_220207_5389_WT_c2_rep1_prophase_axes_60min_stlc_hemi_zoom5-01-106.czi #3.tif_registered.tif        0.518197\n",
       "Scc1_EdU_Hoechst_220207_5389_WT_c2_rep1_prophase_axes_60min_stlc_hemi_zoom5-01-106.czi #4.tif_registered.tif        0.504142\n",
       "Scc1_EdU_Hoechst_220207_5389_WT_c2_rep2_prophase_axes_60min_stlc_hemi_zoom5-01-79-87.tif_registered.tif             0.581885\n",
       "Scc1_EdU_Hoechst_220405_wt_prophase_rep1_hemi_stain_smc4_cycb1_zoom4_8-03-140.czi #2.tif_registered.tif             0.468547\n",
       "Scc1_EdU_Hoechst_220405_wt_prophase_rep1_hemi_stain_smc4_cycb1_zoom4_8-03-140.czi #3.tif_registered.tif             0.578605\n",
       "Scc1_EdU_Hoechst_220405_wt_prophase_rep1_hemi_stain_smc4_cycb1_zoom4_8-03-140.czi #4.tif_registered.tif             0.479118\n",
       "Scc1_EdU_Hoechst_220405_wt_prophase_rep1_hemi_stain_smc4_cycb1_zoom4_8-03-140.czi #5.tif_registered.tif             0.486111\n",
       "Scc1_EdU_Hoechst_220405_wt_prophase_rep1_hemi_stain_smc4_cycb1_zoom4_8-03-140.czi #7.tif_registered.tif             0.503732\n",
       "Scc1_EdU_Hoechst_220405_wt_prophase_rep1_hemi_stain_smc4_cycb1_zoom4_8-04-141-142.tif_registered.tif                0.548509\n",
       "Scc1_EdU_Hoechst_220405_wt_prophase_rep3_hemi_stain_smc4_cycb1_zoom4_8-04-160.czi #1.tif_registered.tif             0.562944\n",
       "Scc1_EdU_Hoechst_220530_5517_WT_hemi_15h_G2_prophase_rep1+2_stlc-01-65.czi #02.tif_registered.tif                   0.504140\n",
       "Scc1_EdU_Hoechst_220530_5517_WT_hemi_15h_G2_prophase_rep1+2_stlc-01-65.czi #03.tif_registered.tif                   0.583886\n",
       "Scc1_EdU_Hoechst_220530_5517_WT_hemi_15h_G2_prophase_rep1+2_stlc-01-65.czi #04.tif_registered.tif                   0.533899\n",
       "Scc1_EdU_Hoechst_220530_5517_WT_hemi_15h_G2_prophase_rep1+2_stlc-01-65.czi #05.tif_registered.tif                   0.520778\n",
       "Scc1_EdU_Hoechst_220530_5517_WT_hemi_15h_G2_prophase_rep1+2_stlc-01-65.czi #07.tif_registered.tif                   0.574758\n",
       "Scc1_EdU_Hoechst_220530_5517_WT_hemi_15h_G2_prophase_rep1+2_stlc-01-65.czi #17.tif_registered.tif                   0.600417\n",
       "Scc1_EdU_Hoechst_220530_5517_WT_hemi_15h_G2_prophase_rep1+2_stlc-01-65.czi #19.tif_registered.tif                   0.428348\n",
       "Scc1_EdU_Hoechst_220530_5517_WT_hemi_15h_G2_prophase_rep1+2_stlc-01-65.czi #21.tif_registered.tif                   0.590846\n",
       "Name: sister_separation, dtype: float64"
      ]
     },
     "execution_count": 43,
     "metadata": {},
     "output_type": "execute_result"
    }
   ],
   "source": [
    "sorted_prophase"
   ]
  },
  {
   "cell_type": "code",
   "execution_count": 45,
   "metadata": {},
   "outputs": [
    {
     "data": {
      "text/plain": [
       "31"
      ]
     },
     "execution_count": 45,
     "metadata": {},
     "output_type": "execute_result"
    }
   ],
   "source": [
    "count_row = sorted_prophase.shape[0]\n",
    "count_row"
   ]
  },
  {
   "cell_type": "code",
   "execution_count": 46,
   "metadata": {},
   "outputs": [],
   "source": [
    "sorted_wapl= df_wapl.groupby('name')['sister_separation'].mean()"
   ]
  },
  {
   "cell_type": "code",
   "execution_count": 47,
   "metadata": {},
   "outputs": [
    {
     "data": {
      "text/plain": [
       "18"
      ]
     },
     "execution_count": 47,
     "metadata": {},
     "output_type": "execute_result"
    }
   ],
   "source": [
    "count_row = sorted_wapl.shape[0]\n",
    "count_row"
   ]
  },
  {
   "cell_type": "code",
   "execution_count": 48,
   "metadata": {},
   "outputs": [
    {
     "data": {
      "text/plain": [
       "name\n",
       "Scc1_EdU_Hoechst_220211_5389_2096_c1_rep1_wapl_dep_on_hemi_g2_zoom4_8-03-51.tif_registered.tif               0.398808\n",
       "Scc1_EdU_Hoechst_220211_5389_2096_c1_rep1_wapl_dep_on_hemi_g2_zoom4_8-06-40.czi #1.tif_registered.tif        0.369734\n",
       "Scc1_EdU_Hoechst_220211_5389_2096_c1_rep1_wapl_dep_on_hemi_g2_zoom4_8-06-40.czi #2.tif_registered.tif        0.363573\n",
       "Scc1_EdU_Hoechst_220211_5389_2096_c1_rep1_wapl_dep_on_hemi_g2_zoom4_8-07-41-43.tif_registered.tif            0.404726\n",
       "Scc1_EdU_Hoechst_220211_5389_2096_c1_rep1_wapl_dep_on_hemi_g2_zoom4_8-09-45.tif_registered.tif               0.368419\n",
       "Scc1_EdU_Hoechst_220211_5389_2096_c1_rep2_wapl_dep_on_hemi_g2_zoom4_8-03-52.tif_registered.tif               0.398107\n",
       "Scc1_EdU_Hoechst_220211_5389_2096_c1_rep2_wapl_dep_on_hemi_g2_zoom4_8-09-55.tif_registered.tif               0.415985\n",
       "Scc1_EdU_Hoechst_220211_5389_2096_c1_rep2_wapl_dep_on_hemi_g2_zoom4_8-13-58.czi #1.tif_registered.tif        0.439983\n",
       "Scc1_EdU_Hoechst_220211_5389_2096_c2_rep1_wapl_dep_on_hemi_g2_zoom4_8-02-63.czi #2.tif_registered.tif        0.363047\n",
       "Scc1_EdU_Hoechst_220211_5389_2096_c2_rep2_wapl_dep_on_hemi_g2_zoom4_8-05-74.czi #1.tif_registered.tif        0.437688\n",
       "Scc1_EdU_Hoechst_220211_5389_2096_c2_rep2_wapl_dep_on_hemi_g2_zoom4_8-05-74.czi #2.tif_registered.tif        0.441633\n",
       "Scc1_EdU_Hoechst_220211_5389_2096_c2_rep2_wapl_dep_on_hemi_g2_zoom4_8-09-77-78.tif_registered.tif            0.478515\n",
       "Scc1_EdU_Hoechst_220405_2096_wapl_dep_rep1_hemi_stain_scc1_cycb1_zoom4_8-02-102.czi #2.tif_registered.tif    0.358170\n",
       "Scc1_EdU_Hoechst_220405_2096_wapl_dep_rep1_hemi_stain_scc1_cycb1_zoom4_8-05-104.czi #2.tif_registered.tif    0.607197\n",
       "Scc1_EdU_Hoechst_220405_2096_wapl_dep_rep2_hemi_stain_scc1_cycb1_zoom4_8-03-105.czi #1.tif_registered.tif    0.384764\n",
       "Scc1_EdU_Hoechst_220405_2096_wapl_dep_rep2_hemi_stain_scc1_cycb1_zoom4_8-04-106.czi #1.tif_registered.tif    0.460667\n",
       "Scc1_EdU_Hoechst_220405_2096_wapl_dep_rep2_hemi_stain_scc1_cycb1_zoom4_8-05-108.czi #1.tif_registered.tif    0.416567\n",
       "Scc1_EdU_Hoechst_220405_2096_wapl_dep_rep2_hemi_stain_scc1_cycb1_zoom4_8-05-108.czi #2.tif_registered.tif    0.409797\n",
       "Name: sister_separation, dtype: float64"
      ]
     },
     "execution_count": 48,
     "metadata": {},
     "output_type": "execute_result"
    }
   ],
   "source": [
    "sorted_wapl"
   ]
  },
  {
   "cell_type": "code",
   "execution_count": 52,
   "metadata": {},
   "outputs": [],
   "source": [
    "sorted_wapl_sor= df_wapl_sor.groupby('name')['sister_separation'].mean()"
   ]
  },
  {
   "cell_type": "code",
   "execution_count": 53,
   "metadata": {},
   "outputs": [
    {
     "data": {
      "text/plain": [
       "18"
      ]
     },
     "execution_count": 53,
     "metadata": {},
     "output_type": "execute_result"
    }
   ],
   "source": [
    "count_row = sorted_wapl_sor.shape[0]\n",
    "count_row"
   ]
  },
  {
   "cell_type": "code",
   "execution_count": 54,
   "metadata": {},
   "outputs": [
    {
     "data": {
      "text/plain": [
       "name\n",
       "Scc1_EdU_Hoechst_220211_5389_2096_c1_rep2_wapl_sor_dep_on_hemi_g2_zoom4_8-03-37.czi #2.tif_registered.tif        0.731798\n",
       "Scc1_EdU_Hoechst_220211_5389_2096_c1_rep2_wapl_sor_dep_on_hemi_g2_zoom4_8-03-37.czi #5.tif_registered.tif        0.614880\n",
       "Scc1_EdU_Hoechst_220211_5389_2096_c1_rep2_wapl_sor_dep_on_hemi_g2_zoom4_8-03-37.czi #6.tif_registered.tif        0.693044\n",
       "Scc1_EdU_Hoechst_220211_5389_2096_c1_rep2_wapl_sor_dep_on_hemi_g2_zoom4_8-03-37.czi #7.tif_registered.tif        0.636834\n",
       "Scc1_EdU_Hoechst_220211_5389_2096_c1_rep2_wapl_sor_dep_on_hemi_g2_zoom4_8-03-37.czi #8.tif_registered.tif        0.639887\n",
       "Scc1_EdU_Hoechst_220211_5389_2096_c2_rep1_wapl_sor_dep_on_hemi_g2_zoom4_8-02-38.czi #1.tif_registered.tif        0.611318\n",
       "Scc1_EdU_Hoechst_220211_5389_2096_c2_rep1_wapl_sor_dep_on_hemi_g2_zoom4_8-02-38.czi #2.tif_registered.tif        0.600112\n",
       "Scc1_EdU_Hoechst_220211_5389_2096_c2_rep1_wapl_sor_dep_on_hemi_g2_zoom4_8-02-38.czi #3.tif_registered.tif        0.739205\n",
       "Scc1_EdU_Hoechst_220211_5389_2096_c2_rep1_wapl_sor_dep_on_hemi_g2_zoom4_8-02-38.czi #5.tif_registered.tif        0.613971\n",
       "Scc1_EdU_Hoechst_220211_5389_2096_c2_rep1_wapl_sor_dep_on_hemi_g2_zoom4_8-03-39.czi #1.tif_registered.tif        0.670773\n",
       "Scc1_EdU_Hoechst_220211_5389_2096_c2_rep1_wapl_sor_dep_on_hemi_g2_zoom4_8-03-39.czi #2.tif_registered.tif        0.742716\n",
       "Scc1_EdU_Hoechst_220211_5389_2096_c2_rep1_wapl_sor_dep_on_hemi_g2_zoom4_8-05-40.czi #2.tif_registered.tif        0.594389\n",
       "Scc1_EdU_Hoechst_220211_5389_2096_c2_rep2_wapl_sor_dep_on_hemi_g2_zoom4_8-06-44.czi #1.tif_registered.tif        0.640643\n",
       "Scc1_EdU_Hoechst_220405_2096_wapl_sor_dep_rep1_hemi_stain_scc1_cycb1_zoom4_8-02-109.czi #1.tif_registered.tif    0.609543\n",
       "Scc1_EdU_Hoechst_220405_2096_wapl_sor_dep_rep1_hemi_stain_scc1_cycb1_zoom4_8-03-110.czi #1.tif_registered.tif    0.618869\n",
       "Scc1_EdU_Hoechst_220405_2096_wapl_sor_dep_rep2_hemi_stain_scc1_cycb1_zoom4_8-02-115czi #2.tif_registered.tif     0.693568\n",
       "Scc1_EdU_Hoechst_220405_2096_wapl_sor_dep_rep2_hemi_stain_scc1_cycb1_zoom4_8-03-116.czi #2.tif_registered.tif    0.495569\n",
       "Scc1_EdU_Hoechst_220405_2096_wapl_sor_dep_rep2_hemi_stain_scc1_cycb1_zoom4_8-05-117.tif_registered.tif           0.546899\n",
       "Name: sister_separation, dtype: float64"
      ]
     },
     "execution_count": 54,
     "metadata": {},
     "output_type": "execute_result"
    }
   ],
   "source": [
    "sorted_wapl_sor"
   ]
  },
  {
   "cell_type": "code",
   "execution_count": null,
   "metadata": {},
   "outputs": [],
   "source": []
  }
 ],
 "metadata": {
  "interpreter": {
   "hash": "31f2aee4e71d21fbe5cf8b01ff0e069b9275f58929596ceb00d14d90e3e16cd6"
  },
  "kernelspec": {
   "display_name": "Python 3 (ipykernel)",
   "language": "python",
   "name": "python3"
  },
  "language_info": {
   "codemirror_mode": {
    "name": "ipython",
    "version": 3
   },
   "file_extension": ".py",
   "mimetype": "text/x-python",
   "name": "python",
   "nbconvert_exporter": "python",
   "pygments_lexer": "ipython3",
   "version": "3.9.9"
  }
 },
 "nbformat": 4,
 "nbformat_minor": 4
}
