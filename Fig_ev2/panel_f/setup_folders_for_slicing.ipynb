{
 "cells": [
  {
   "cell_type": "code",
   "execution_count": 1,
   "metadata": {},
   "outputs": [],
   "source": [
    "import matplotlib.pyplot as plt\n",
    "from mpl_toolkits.mplot3d.art3d import Poly3DCollection\n",
    "import numpy as np\n",
    "from scipy import ndimage as ndi\n",
    "\n",
    "from skimage import (\n",
    "    exposure, io\n",
    ")\n",
    "import math\n",
    "from scipy import signal\n",
    "from skimage.filters import threshold_multiotsu\n",
    "import os\n",
    "import re\n",
    "from glob import glob\n",
    "import shutil"
   ]
  },
  {
   "cell_type": "code",
   "execution_count": 10,
   "metadata": {},
   "outputs": [],
   "source": [
    "path = (\"/groups/gerlich/experiments/Experiments_005500/005530/tifs_registered_background_subtracted_testing/2045_nipbl_aid_g2/1/\")\n",
    "os.chdir(path)"
   ]
  },
  {
   "cell_type": "code",
   "execution_count": 11,
   "metadata": {},
   "outputs": [],
   "source": [
    "conditions = next(os.walk('.'))[1]\n",
    "#remove hidden folder created by jupyter:\n",
    "clean_conditions = [c for c in conditions if not re.match(r'^\\.', c)]\n",
    "conditions = sorted(clean_conditions)"
   ]
  },
  {
   "cell_type": "code",
   "execution_count": 12,
   "metadata": {},
   "outputs": [
    {
     "data": {
      "text/plain": [
       "['5539']"
      ]
     },
     "execution_count": 12,
     "metadata": {},
     "output_type": "execute_result"
    }
   ],
   "source": [
    "conditions"
   ]
  },
  {
   "cell_type": "code",
   "execution_count": 13,
   "metadata": {},
   "outputs": [
    {
     "name": "stdout",
     "output_type": "stream",
     "text": [
      "5539\n",
      "['hemi_nipbl_dep', 'hemi_minus_aux']\n",
      "   0\n",
      "   1\n",
      "   2\n",
      "   3\n",
      "   4\n",
      "   5\n",
      "   6\n",
      "   7\n",
      "   8\n",
      "   9\n",
      "   10\n",
      "   11\n",
      "   12\n",
      "   13\n",
      "   14\n",
      "   15\n",
      "   16\n",
      "   17\n",
      "   18\n",
      "   19\n",
      "   20\n",
      "   21\n",
      "   22\n",
      "   23\n",
      "   24\n",
      "   25\n",
      "   26\n",
      "   27\n",
      "   0\n",
      "   1\n",
      "   2\n",
      "   3\n",
      "   4\n",
      "   5\n",
      "   6\n",
      "   7\n",
      "   8\n",
      "   9\n",
      "   10\n",
      "   11\n",
      "   12\n",
      "   13\n",
      "   14\n",
      "   15\n",
      "   16\n",
      "   17\n",
      "   18\n",
      "   19\n"
     ]
    }
   ],
   "source": [
    "for condition in conditions:\n",
    "    replicates = next(os.walk(condition))[1]\n",
    "    print(condition)\n",
    "    print(replicates)\n",
    "    for replicate in replicates:\n",
    "        #print(replicate)\n",
    "        images = [file for file in os.listdir(os.path.join(condition,replicate)) if file.endswith('.tif')]\n",
    "        #print(images)\n",
    "        for index, image in enumerate(images):\n",
    "            if not os.path.exists(os.path.join(condition,replicate,str(index+1))):\n",
    "                os.mkdir(os.path.join(condition,replicate,str(index+1)))\n",
    "            shutil.move(os.path.join(condition,replicate,image),os.path.join(condition,replicate,str(index+1),image))\n",
    "            print(\"   \"+str(index))\n",
    "            "
   ]
  },
  {
   "cell_type": "code",
   "execution_count": 37,
   "metadata": {},
   "outputs": [],
   "source": [
    "#TODO this might not put image 1 in Folder 1, not important but coud be confusing"
   ]
  },
  {
   "cell_type": "code",
   "execution_count": null,
   "metadata": {},
   "outputs": [],
   "source": []
  },
  {
   "cell_type": "code",
   "execution_count": null,
   "metadata": {},
   "outputs": [],
   "source": []
  },
  {
   "cell_type": "code",
   "execution_count": null,
   "metadata": {},
   "outputs": [],
   "source": []
  },
  {
   "cell_type": "code",
   "execution_count": null,
   "metadata": {},
   "outputs": [],
   "source": []
  },
  {
   "cell_type": "code",
   "execution_count": null,
   "metadata": {},
   "outputs": [],
   "source": []
  },
  {
   "cell_type": "code",
   "execution_count": null,
   "metadata": {},
   "outputs": [],
   "source": []
  },
  {
   "cell_type": "code",
   "execution_count": null,
   "metadata": {},
   "outputs": [],
   "source": []
  },
  {
   "cell_type": "code",
   "execution_count": null,
   "metadata": {},
   "outputs": [],
   "source": []
  },
  {
   "cell_type": "code",
   "execution_count": null,
   "metadata": {},
   "outputs": [],
   "source": []
  },
  {
   "cell_type": "code",
   "execution_count": null,
   "metadata": {},
   "outputs": [],
   "source": []
  },
  {
   "cell_type": "code",
   "execution_count": null,
   "metadata": {},
   "outputs": [],
   "source": []
  },
  {
   "cell_type": "code",
   "execution_count": null,
   "metadata": {},
   "outputs": [],
   "source": []
  },
  {
   "cell_type": "code",
   "execution_count": null,
   "metadata": {},
   "outputs": [],
   "source": []
  },
  {
   "cell_type": "code",
   "execution_count": null,
   "metadata": {},
   "outputs": [],
   "source": []
  }
 ],
 "metadata": {
  "kernelspec": {
   "display_name": "slicer_v0.1",
   "language": "python",
   "name": "slicer_v0.1"
  },
  "language_info": {
   "codemirror_mode": {
    "name": "ipython",
    "version": 3
   },
   "file_extension": ".py",
   "mimetype": "text/x-python",
   "name": "python",
   "nbconvert_exporter": "python",
   "pygments_lexer": "ipython3",
   "version": "3.6.7"
  }
 },
 "nbformat": 4,
 "nbformat_minor": 4
}
